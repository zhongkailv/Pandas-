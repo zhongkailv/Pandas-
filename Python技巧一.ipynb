{
 "cells": [
  {
   "cell_type": "markdown",
   "metadata": {},
   "source": [
    "#一个函数有多个返回值，调用该函数的同时，把结果赋给一个DataFrame的多个变量\n"
   ]
  },
  {
   "cell_type": "code",
   "execution_count": null,
   "metadata": {},
   "outputs": [],
   "source": [
    "import pandas as pd\n",
    "\n",
    "test_1_df = pd.read_excel(r\"D:\\GEO\\题目一.xlsx\",sheet_name = '工作表1')\n",
    "\n",
    "def etl(etl_str):\n",
    "    etl_list = etl_str.split(';')\n",
    "    etl_list2 = []\n",
    "    for i in etl_list:\n",
    "        temp_list = [j.split(':')[1] for j in i.split(',')]\n",
    "        etl_list2.append(temp_list)\n",
    "        \n",
    "    etl_df = pd.DataFrame(etl_list2,columns = ['is_bank','platform_ID','reg_date']).astype({'reg_date':'datetime64'})\n",
    "    \n",
    "    reg_cnt = len(etl_df)   ##统计注册总次数\n",
    "    reg_non_bank_cnt = len(etl_df[etl_df['is_bank'] == '非银行'])   ##统计注册总次数_非银行\n",
    "    reg_min_date = min(etl_df['reg_date'].dt.date)   ##最早注册时间\n",
    "    reg_unique_platform_cnt = len(etl_df['platform_ID'].unique())   ##注册平台数\n",
    "    \n",
    "    return reg_cnt,reg_non_bank_cnt,reg_min_date,reg_unique_platform_cnt\n",
    "\n",
    "test_1_df[['注册总次数','注册次数_非银行','最早注册时间','注册平台数']] \\\n",
    "= test_1_df.apply(lambda x:etl(x['raw1']),axis=1,result_type = 'expand')\n"
   ]
  },
  {
   "cell_type": "markdown",
   "metadata": {},
   "source": [
    "还有一种方法详见https://github.com/justmarkham/pandas-videos/blob/master/top_25_pandas_tricks.ipynb第16个例子"
   ]
  },
  {
   "cell_type": "code",
   "execution_count": null,
   "metadata": {},
   "outputs": [],
   "source": [
    "df = pd.DataFrame({'name':['John Arthur Doe', 'Jane Ann Smith'],\n",
    "                   'location':['Los Angeles, CA', 'Washington, DC']})\n",
    "df"
   ]
  },
  {
   "cell_type": "code",
   "execution_count": null,
   "metadata": {},
   "outputs": [],
   "source": [
    "df.name.str.split(' ', expand=True)"
   ]
  },
  {
   "cell_type": "code",
   "execution_count": null,
   "metadata": {},
   "outputs": [],
   "source": [
    "df[['first', 'middle', 'last']] = df.name.str.split(' ', expand=True)\n",
    "df"
   ]
  },
  {
   "cell_type": "code",
   "execution_count": null,
   "metadata": {},
   "outputs": [],
   "source": []
  }
 ],
 "metadata": {
  "kernelspec": {
   "display_name": "Python 3",
   "language": "python",
   "name": "python3"
  }
 },
 "nbformat": 4,
 "nbformat_minor": 2
}
